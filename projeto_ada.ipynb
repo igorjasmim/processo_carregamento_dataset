{
  "cells": [
    {
      "cell_type": "markdown",
      "metadata": {
        "id": "_EhG7IvW89ZC"
      },
      "source": [
        "## VERIFICAR QUAIS ARQUIVOS SERÃO ESSENCIAIS PARA RESPONDER A QUESTÃO:\n",
        "- Para abrir um e-commerce de um produto x estamos analisando o ticket médio de compra das pessoas e qual região do brasil\n",
        "- compra mais de comercios digitais. A justificativa desta investigação é que iremos direcionar nossas propagandas patrocinadas\n",
        "- para a região que - primeiramente compra mais do mercado digital; em segundo, possui ticket médio adequado ao nosso produto: saúde, beleza, cosméticos\n",
        "\n",
        "\n",
        "### quais tabelas serão utilizadas?\n",
        "\n",
        "'''\n",
        "1. olist_customers_dataset.csv --> costumer_id, customer_zip_code_prefix\n",
        "2. olist_geolocation_dataset.csv --> zip_code_prefix\n",
        "3. olist_order_items_dataset.csv --> order_id, product_id\n",
        "4. olist_products_dataset.csv --> product_id\n",
        "5. product_category_name_translation.csv --> utilizado apenas para verificar o ranking do nosso produto (a escolher)\n",
        "'''\n"
      ]
    },
    {
      "cell_type": "code",
      "execution_count": 132,
      "metadata": {
        "id": "zXFtOg249EeZ"
      },
      "outputs": [],
      "source": [
        "import pandas as pd\n",
        "import numpy as np\n",
        "import matplotlib.pyplot as plt\n",
        "import seaborn as sns\n"
      ]
    },
    {
      "cell_type": "code",
      "execution_count": 133,
      "metadata": {
        "id": "B7SJhetn9I9a"
      },
      "outputs": [],
      "source": [
        "df_customers = pd.read_csv('arquivos csv/olist_customers_dataset.csv')\n",
        "#df_geolocation = pd.read_csv('arquivos csv/olist_geolocation_dataset.csv')\n",
        "df_items = pd.read_csv('arquivos csv/olist_order_items_dataset.csv')\n",
        "df_payments = pd.read_csv('arquivos csv/olist_order_payments_dataset.csv')\n",
        "df_reviews = pd.read_csv('arquivos csv/olist_order_reviews_dataset.csv')\n",
        "df_orders = pd.read_csv('arquivos csv/olist_orders_dataset.csv')\n",
        "df_products = pd.read_csv('arquivos csv/olist_products_dataset.csv')\n",
        "df_sellers = pd.read_csv('arquivos csv/olist_sellers_dataset.csv')\n",
        "df_category = pd.read_csv('arquivos csv/product_category_name_translation.csv')"
      ]
    },
    {
      "cell_type": "code",
      "execution_count": 9,
      "metadata": {
        "colab": {
          "base_uri": "https://localhost:8080/",
          "height": 206
        },
        "id": "CSaBZytO9Nqp",
        "outputId": "692d82b9-3a4a-4685-ad26-2930e29f0da2"
      },
      "outputs": [
        {
          "data": {
            "text/html": [
              "<div>\n",
              "<style scoped>\n",
              "    .dataframe tbody tr th:only-of-type {\n",
              "        vertical-align: middle;\n",
              "    }\n",
              "\n",
              "    .dataframe tbody tr th {\n",
              "        vertical-align: top;\n",
              "    }\n",
              "\n",
              "    .dataframe thead th {\n",
              "        text-align: right;\n",
              "    }\n",
              "</style>\n",
              "<table border=\"1\" class=\"dataframe\">\n",
              "  <thead>\n",
              "    <tr style=\"text-align: right;\">\n",
              "      <th></th>\n",
              "      <th>customer_id</th>\n",
              "      <th>customer_unique_id</th>\n",
              "      <th>customer_zip_code_prefix</th>\n",
              "      <th>customer_city</th>\n",
              "      <th>customer_state</th>\n",
              "    </tr>\n",
              "  </thead>\n",
              "  <tbody>\n",
              "    <tr>\n",
              "      <th>0</th>\n",
              "      <td>06b8999e2fba1a1fbc88172c00ba8bc7</td>\n",
              "      <td>861eff4711a542e4b93843c6dd7febb0</td>\n",
              "      <td>14409</td>\n",
              "      <td>franca</td>\n",
              "      <td>SP</td>\n",
              "    </tr>\n",
              "    <tr>\n",
              "      <th>1</th>\n",
              "      <td>18955e83d337fd6b2def6b18a428ac77</td>\n",
              "      <td>290c77bc529b7ac935b93aa66c333dc3</td>\n",
              "      <td>9790</td>\n",
              "      <td>sao bernardo do campo</td>\n",
              "      <td>SP</td>\n",
              "    </tr>\n",
              "    <tr>\n",
              "      <th>2</th>\n",
              "      <td>4e7b3e00288586ebd08712fdd0374a03</td>\n",
              "      <td>060e732b5b29e8181a18229c7b0b2b5e</td>\n",
              "      <td>1151</td>\n",
              "      <td>sao paulo</td>\n",
              "      <td>SP</td>\n",
              "    </tr>\n",
              "    <tr>\n",
              "      <th>3</th>\n",
              "      <td>b2b6027bc5c5109e529d4dc6358b12c3</td>\n",
              "      <td>259dac757896d24d7702b9acbbff3f3c</td>\n",
              "      <td>8775</td>\n",
              "      <td>mogi das cruzes</td>\n",
              "      <td>SP</td>\n",
              "    </tr>\n",
              "    <tr>\n",
              "      <th>4</th>\n",
              "      <td>4f2d8ab171c80ec8364f7c12e35b23ad</td>\n",
              "      <td>345ecd01c38d18a9036ed96c73b8d066</td>\n",
              "      <td>13056</td>\n",
              "      <td>campinas</td>\n",
              "      <td>SP</td>\n",
              "    </tr>\n",
              "  </tbody>\n",
              "</table>\n",
              "</div>"
            ],
            "text/plain": [
              "                        customer_id                customer_unique_id   \n",
              "0  06b8999e2fba1a1fbc88172c00ba8bc7  861eff4711a542e4b93843c6dd7febb0  \\\n",
              "1  18955e83d337fd6b2def6b18a428ac77  290c77bc529b7ac935b93aa66c333dc3   \n",
              "2  4e7b3e00288586ebd08712fdd0374a03  060e732b5b29e8181a18229c7b0b2b5e   \n",
              "3  b2b6027bc5c5109e529d4dc6358b12c3  259dac757896d24d7702b9acbbff3f3c   \n",
              "4  4f2d8ab171c80ec8364f7c12e35b23ad  345ecd01c38d18a9036ed96c73b8d066   \n",
              "\n",
              "   customer_zip_code_prefix          customer_city customer_state  \n",
              "0                     14409                 franca             SP  \n",
              "1                      9790  sao bernardo do campo             SP  \n",
              "2                      1151              sao paulo             SP  \n",
              "3                      8775        mogi das cruzes             SP  \n",
              "4                     13056               campinas             SP  "
            ]
          },
          "execution_count": 9,
          "metadata": {},
          "output_type": "execute_result"
        }
      ],
      "source": [
        "df_customers.head()"
      ]
    },
    {
      "cell_type": "code",
      "execution_count": null,
      "metadata": {
        "id": "l67lWBSv9PqR"
      },
      "outputs": [],
      "source": [
        "# cruzando os dados do df_customers com os dados df_geolocation\n",
        "#df_customers_geo = pd.merge(df_customers, df_geolocation, how='inner', left_on='customer_zip_code_prefix', right_on='geolocation_zip_code_prefix').drop_duplicates('customer_id', keep='first')"
      ]
    },
    {
      "cell_type": "code",
      "execution_count": 10,
      "metadata": {
        "id": "4BiwkFbC9QDT"
      },
      "outputs": [],
      "source": [
        "# juntando as tabelas necessárias para a análise proposta\n",
        "df_customers_order = pd.merge(df_customers, df_orders, how='inner', on='customer_id')\n",
        "df_customer_item = pd.merge(df_customers_order, df_items, how='inner', on='order_id')\n",
        "df_customer_final = pd.merge(df_customer_item, df_products, how='inner', on='product_id')\n"
      ]
    },
    {
      "cell_type": "code",
      "execution_count": 11,
      "metadata": {
        "colab": {
          "base_uri": "https://localhost:8080/",
          "height": 290
        },
        "id": "6ZhNnkzq9ULq",
        "outputId": "c1575012-65c1-4baf-d4d3-0931ba0be9d5"
      },
      "outputs": [
        {
          "data": {
            "text/html": [
              "<div>\n",
              "<style scoped>\n",
              "    .dataframe tbody tr th:only-of-type {\n",
              "        vertical-align: middle;\n",
              "    }\n",
              "\n",
              "    .dataframe tbody tr th {\n",
              "        vertical-align: top;\n",
              "    }\n",
              "\n",
              "    .dataframe thead th {\n",
              "        text-align: right;\n",
              "    }\n",
              "</style>\n",
              "<table border=\"1\" class=\"dataframe\">\n",
              "  <thead>\n",
              "    <tr style=\"text-align: right;\">\n",
              "      <th></th>\n",
              "      <th>customer_id</th>\n",
              "      <th>customer_unique_id</th>\n",
              "      <th>customer_zip_code_prefix</th>\n",
              "      <th>customer_city</th>\n",
              "      <th>customer_state</th>\n",
              "      <th>order_id</th>\n",
              "      <th>order_status</th>\n",
              "      <th>order_purchase_timestamp</th>\n",
              "      <th>order_approved_at</th>\n",
              "      <th>order_delivered_carrier_date</th>\n",
              "      <th>...</th>\n",
              "      <th>price</th>\n",
              "      <th>freight_value</th>\n",
              "      <th>product_category_name</th>\n",
              "      <th>product_name_lenght</th>\n",
              "      <th>product_description_lenght</th>\n",
              "      <th>product_photos_qty</th>\n",
              "      <th>product_weight_g</th>\n",
              "      <th>product_length_cm</th>\n",
              "      <th>product_height_cm</th>\n",
              "      <th>product_width_cm</th>\n",
              "    </tr>\n",
              "  </thead>\n",
              "  <tbody>\n",
              "    <tr>\n",
              "      <th>0</th>\n",
              "      <td>06b8999e2fba1a1fbc88172c00ba8bc7</td>\n",
              "      <td>861eff4711a542e4b93843c6dd7febb0</td>\n",
              "      <td>14409</td>\n",
              "      <td>franca</td>\n",
              "      <td>SP</td>\n",
              "      <td>00e7ee1b050b8499577073aeb2a297a1</td>\n",
              "      <td>delivered</td>\n",
              "      <td>2017-05-16 15:05:35</td>\n",
              "      <td>2017-05-16 15:22:12</td>\n",
              "      <td>2017-05-23 10:47:57</td>\n",
              "      <td>...</td>\n",
              "      <td>124.99</td>\n",
              "      <td>21.88</td>\n",
              "      <td>moveis_escritorio</td>\n",
              "      <td>41.0</td>\n",
              "      <td>1141.0</td>\n",
              "      <td>1.0</td>\n",
              "      <td>8683.0</td>\n",
              "      <td>54.0</td>\n",
              "      <td>64.0</td>\n",
              "      <td>31.0</td>\n",
              "    </tr>\n",
              "    <tr>\n",
              "      <th>1</th>\n",
              "      <td>8912fc0c3bbf1e2fbf35819e21706718</td>\n",
              "      <td>9eae34bbd3a474ec5d07949ca7de67c0</td>\n",
              "      <td>68030</td>\n",
              "      <td>santarem</td>\n",
              "      <td>PA</td>\n",
              "      <td>c1d2b34febe9cd269e378117d6681172</td>\n",
              "      <td>delivered</td>\n",
              "      <td>2017-11-09 00:50:13</td>\n",
              "      <td>2017-11-10 00:47:48</td>\n",
              "      <td>2017-11-22 01:43:37</td>\n",
              "      <td>...</td>\n",
              "      <td>112.99</td>\n",
              "      <td>24.90</td>\n",
              "      <td>moveis_escritorio</td>\n",
              "      <td>41.0</td>\n",
              "      <td>1141.0</td>\n",
              "      <td>1.0</td>\n",
              "      <td>8683.0</td>\n",
              "      <td>54.0</td>\n",
              "      <td>64.0</td>\n",
              "      <td>31.0</td>\n",
              "    </tr>\n",
              "    <tr>\n",
              "      <th>2</th>\n",
              "      <td>8912fc0c3bbf1e2fbf35819e21706718</td>\n",
              "      <td>9eae34bbd3a474ec5d07949ca7de67c0</td>\n",
              "      <td>68030</td>\n",
              "      <td>santarem</td>\n",
              "      <td>PA</td>\n",
              "      <td>c1d2b34febe9cd269e378117d6681172</td>\n",
              "      <td>delivered</td>\n",
              "      <td>2017-11-09 00:50:13</td>\n",
              "      <td>2017-11-10 00:47:48</td>\n",
              "      <td>2017-11-22 01:43:37</td>\n",
              "      <td>...</td>\n",
              "      <td>112.99</td>\n",
              "      <td>24.90</td>\n",
              "      <td>moveis_escritorio</td>\n",
              "      <td>41.0</td>\n",
              "      <td>1141.0</td>\n",
              "      <td>1.0</td>\n",
              "      <td>8683.0</td>\n",
              "      <td>54.0</td>\n",
              "      <td>64.0</td>\n",
              "      <td>31.0</td>\n",
              "    </tr>\n",
              "    <tr>\n",
              "      <th>3</th>\n",
              "      <td>f0ac8e5a239118859b1734e1087cbb1f</td>\n",
              "      <td>3c799d181c34d51f6d44bbbc563024db</td>\n",
              "      <td>92480</td>\n",
              "      <td>nova santa rita</td>\n",
              "      <td>RS</td>\n",
              "      <td>b1a5d5365d330d10485e0203d54ab9e8</td>\n",
              "      <td>delivered</td>\n",
              "      <td>2017-05-07 20:11:26</td>\n",
              "      <td>2017-05-08 22:22:56</td>\n",
              "      <td>2017-05-19 20:16:31</td>\n",
              "      <td>...</td>\n",
              "      <td>124.99</td>\n",
              "      <td>15.62</td>\n",
              "      <td>moveis_escritorio</td>\n",
              "      <td>41.0</td>\n",
              "      <td>1141.0</td>\n",
              "      <td>1.0</td>\n",
              "      <td>8683.0</td>\n",
              "      <td>54.0</td>\n",
              "      <td>64.0</td>\n",
              "      <td>31.0</td>\n",
              "    </tr>\n",
              "    <tr>\n",
              "      <th>4</th>\n",
              "      <td>6bc8d08963a135220ed6c6d098831f84</td>\n",
              "      <td>23397e992b09769faf5e66f9e171a241</td>\n",
              "      <td>25931</td>\n",
              "      <td>mage</td>\n",
              "      <td>RJ</td>\n",
              "      <td>2e604b3614664aa66867856dba7e61b7</td>\n",
              "      <td>delivered</td>\n",
              "      <td>2018-02-03 19:45:40</td>\n",
              "      <td>2018-02-04 22:29:19</td>\n",
              "      <td>2018-02-19 18:21:47</td>\n",
              "      <td>...</td>\n",
              "      <td>106.99</td>\n",
              "      <td>30.59</td>\n",
              "      <td>moveis_escritorio</td>\n",
              "      <td>41.0</td>\n",
              "      <td>1141.0</td>\n",
              "      <td>1.0</td>\n",
              "      <td>8683.0</td>\n",
              "      <td>54.0</td>\n",
              "      <td>64.0</td>\n",
              "      <td>31.0</td>\n",
              "    </tr>\n",
              "  </tbody>\n",
              "</table>\n",
              "<p>5 rows × 26 columns</p>\n",
              "</div>"
            ],
            "text/plain": [
              "                        customer_id                customer_unique_id   \n",
              "0  06b8999e2fba1a1fbc88172c00ba8bc7  861eff4711a542e4b93843c6dd7febb0  \\\n",
              "1  8912fc0c3bbf1e2fbf35819e21706718  9eae34bbd3a474ec5d07949ca7de67c0   \n",
              "2  8912fc0c3bbf1e2fbf35819e21706718  9eae34bbd3a474ec5d07949ca7de67c0   \n",
              "3  f0ac8e5a239118859b1734e1087cbb1f  3c799d181c34d51f6d44bbbc563024db   \n",
              "4  6bc8d08963a135220ed6c6d098831f84  23397e992b09769faf5e66f9e171a241   \n",
              "\n",
              "   customer_zip_code_prefix    customer_city customer_state   \n",
              "0                     14409           franca             SP  \\\n",
              "1                     68030         santarem             PA   \n",
              "2                     68030         santarem             PA   \n",
              "3                     92480  nova santa rita             RS   \n",
              "4                     25931             mage             RJ   \n",
              "\n",
              "                           order_id order_status order_purchase_timestamp   \n",
              "0  00e7ee1b050b8499577073aeb2a297a1    delivered      2017-05-16 15:05:35  \\\n",
              "1  c1d2b34febe9cd269e378117d6681172    delivered      2017-11-09 00:50:13   \n",
              "2  c1d2b34febe9cd269e378117d6681172    delivered      2017-11-09 00:50:13   \n",
              "3  b1a5d5365d330d10485e0203d54ab9e8    delivered      2017-05-07 20:11:26   \n",
              "4  2e604b3614664aa66867856dba7e61b7    delivered      2018-02-03 19:45:40   \n",
              "\n",
              "     order_approved_at order_delivered_carrier_date  ...   price   \n",
              "0  2017-05-16 15:22:12          2017-05-23 10:47:57  ...  124.99  \\\n",
              "1  2017-11-10 00:47:48          2017-11-22 01:43:37  ...  112.99   \n",
              "2  2017-11-10 00:47:48          2017-11-22 01:43:37  ...  112.99   \n",
              "3  2017-05-08 22:22:56          2017-05-19 20:16:31  ...  124.99   \n",
              "4  2018-02-04 22:29:19          2018-02-19 18:21:47  ...  106.99   \n",
              "\n",
              "  freight_value  product_category_name product_name_lenght   \n",
              "0         21.88      moveis_escritorio                41.0  \\\n",
              "1         24.90      moveis_escritorio                41.0   \n",
              "2         24.90      moveis_escritorio                41.0   \n",
              "3         15.62      moveis_escritorio                41.0   \n",
              "4         30.59      moveis_escritorio                41.0   \n",
              "\n",
              "  product_description_lenght product_photos_qty  product_weight_g   \n",
              "0                     1141.0                1.0            8683.0  \\\n",
              "1                     1141.0                1.0            8683.0   \n",
              "2                     1141.0                1.0            8683.0   \n",
              "3                     1141.0                1.0            8683.0   \n",
              "4                     1141.0                1.0            8683.0   \n",
              "\n",
              "   product_length_cm product_height_cm  product_width_cm  \n",
              "0               54.0              64.0              31.0  \n",
              "1               54.0              64.0              31.0  \n",
              "2               54.0              64.0              31.0  \n",
              "3               54.0              64.0              31.0  \n",
              "4               54.0              64.0              31.0  \n",
              "\n",
              "[5 rows x 26 columns]"
            ]
          },
          "execution_count": 11,
          "metadata": {},
          "output_type": "execute_result"
        }
      ],
      "source": [
        "df_customer_final.head()"
      ]
    },
    {
      "cell_type": "code",
      "execution_count": 134,
      "metadata": {
        "colab": {
          "base_uri": "https://localhost:8080/"
        },
        "id": "f-D1pAbo9V7K",
        "outputId": "1f21d958-de8d-4cb7-b713-a7dd9c513fe9"
      },
      "outputs": [
        {
          "data": {
            "text/plain": [
              "Index(['customer_id', 'customer_unique_id', 'customer_zip_code_prefix',\n",
              "       'customer_city', 'customer_state', 'order_id', 'order_status',\n",
              "       'order_purchase_timestamp', 'order_approved_at',\n",
              "       'order_delivered_carrier_date', 'order_delivered_customer_date',\n",
              "       'order_estimated_delivery_date', 'order_item_id', 'product_id',\n",
              "       'seller_id', 'shipping_limit_date', 'price', 'freight_value',\n",
              "       'product_category_name', 'product_name_lenght',\n",
              "       'product_description_lenght', 'product_photos_qty', 'product_weight_g',\n",
              "       'product_length_cm', 'product_height_cm', 'product_width_cm'],\n",
              "      dtype='object')"
            ]
          },
          "execution_count": 134,
          "metadata": {},
          "output_type": "execute_result"
        }
      ],
      "source": [
        "# verificar colunas no total\n",
        "df_customer_final.columns"
      ]
    },
    {
      "cell_type": "code",
      "execution_count": null,
      "metadata": {},
      "outputs": [],
      "source": [
        "df_customer_final[['order_purchase_timestamp']].head()"
      ]
    },
    {
      "cell_type": "code",
      "execution_count": 13,
      "metadata": {
        "colab": {
          "base_uri": "https://localhost:8080/",
          "height": 35
        },
        "id": "x60tVBHT9YO6",
        "outputId": "1f140263-c759-4455-97d6-2c5ca152f35e"
      },
      "outputs": [
        {
          "data": {
            "text/plain": [
              "'\\nExtrair colunas necessárias:\\n1. customer_id\\n2. customer_unique_id\\n3. customer_city\\n4. customer_state\\n5. order_id\\n6. product_id\\n7. product_category_name\\n8. price\\n'"
            ]
          },
          "execution_count": 13,
          "metadata": {},
          "output_type": "execute_result"
        }
      ],
      "source": [
        "############################################################################################\n",
        "'''\n",
        "Extrair colunas necessárias:\n",
        "1. customer_id\n",
        "2. customer_unique_id\n",
        "3. customer_city\n",
        "4. customer_state\n",
        "5. order_id\n",
        "6. product_id\n",
        "7. product_category_name\n",
        "8. price\n",
        "'''\n",
        "############################################################################################"
      ]
    },
    {
      "cell_type": "code",
      "execution_count": 14,
      "metadata": {
        "id": "UF27PxcW9YtK"
      },
      "outputs": [],
      "source": [
        "# criar novo dataframe dropando as colunas desnecessárias\n",
        "data_ecommerce = pd.DataFrame ({\n",
        "    'customer_id': df_customer_final['customer_id'],\n",
        "    'customer_unique_id': df_customer_final['customer_unique_id'],\n",
        "    'customer_city': df_customer_final['customer_city'],\n",
        "    'customer_state': df_customer_final['customer_state'],\n",
        "    'order_id': df_customer_final['order_id'],\n",
        "    'product_id': df_customer_final['product_id'],\n",
        "    'product_category_name': df_customer_final['product_category_name'],\n",
        "    'price': df_customer_final['price']\n",
        "})"
      ]
    },
    {
      "cell_type": "code",
      "execution_count": 16,
      "metadata": {
        "colab": {
          "base_uri": "https://localhost:8080/",
          "height": 261
        },
        "id": "WmyItEyb9azL",
        "outputId": "f09b9728-e401-4090-d221-dcb800d7bed8"
      },
      "outputs": [
        {
          "data": {
            "text/html": [
              "<div>\n",
              "<style scoped>\n",
              "    .dataframe tbody tr th:only-of-type {\n",
              "        vertical-align: middle;\n",
              "    }\n",
              "\n",
              "    .dataframe tbody tr th {\n",
              "        vertical-align: top;\n",
              "    }\n",
              "\n",
              "    .dataframe thead th {\n",
              "        text-align: right;\n",
              "    }\n",
              "</style>\n",
              "<table border=\"1\" class=\"dataframe\">\n",
              "  <thead>\n",
              "    <tr style=\"text-align: right;\">\n",
              "      <th></th>\n",
              "      <th>customer_id</th>\n",
              "      <th>customer_unique_id</th>\n",
              "      <th>customer_city</th>\n",
              "      <th>customer_state</th>\n",
              "      <th>order_id</th>\n",
              "      <th>product_id</th>\n",
              "      <th>product_category_name</th>\n",
              "      <th>price</th>\n",
              "    </tr>\n",
              "  </thead>\n",
              "  <tbody>\n",
              "    <tr>\n",
              "      <th>0</th>\n",
              "      <td>06b8999e2fba1a1fbc88172c00ba8bc7</td>\n",
              "      <td>861eff4711a542e4b93843c6dd7febb0</td>\n",
              "      <td>franca</td>\n",
              "      <td>SP</td>\n",
              "      <td>00e7ee1b050b8499577073aeb2a297a1</td>\n",
              "      <td>a9516a079e37a9c9c36b9b78b10169e8</td>\n",
              "      <td>moveis_escritorio</td>\n",
              "      <td>124.99</td>\n",
              "    </tr>\n",
              "    <tr>\n",
              "      <th>1</th>\n",
              "      <td>8912fc0c3bbf1e2fbf35819e21706718</td>\n",
              "      <td>9eae34bbd3a474ec5d07949ca7de67c0</td>\n",
              "      <td>santarem</td>\n",
              "      <td>PA</td>\n",
              "      <td>c1d2b34febe9cd269e378117d6681172</td>\n",
              "      <td>a9516a079e37a9c9c36b9b78b10169e8</td>\n",
              "      <td>moveis_escritorio</td>\n",
              "      <td>112.99</td>\n",
              "    </tr>\n",
              "    <tr>\n",
              "      <th>2</th>\n",
              "      <td>8912fc0c3bbf1e2fbf35819e21706718</td>\n",
              "      <td>9eae34bbd3a474ec5d07949ca7de67c0</td>\n",
              "      <td>santarem</td>\n",
              "      <td>PA</td>\n",
              "      <td>c1d2b34febe9cd269e378117d6681172</td>\n",
              "      <td>a9516a079e37a9c9c36b9b78b10169e8</td>\n",
              "      <td>moveis_escritorio</td>\n",
              "      <td>112.99</td>\n",
              "    </tr>\n",
              "    <tr>\n",
              "      <th>3</th>\n",
              "      <td>f0ac8e5a239118859b1734e1087cbb1f</td>\n",
              "      <td>3c799d181c34d51f6d44bbbc563024db</td>\n",
              "      <td>nova santa rita</td>\n",
              "      <td>RS</td>\n",
              "      <td>b1a5d5365d330d10485e0203d54ab9e8</td>\n",
              "      <td>a9516a079e37a9c9c36b9b78b10169e8</td>\n",
              "      <td>moveis_escritorio</td>\n",
              "      <td>124.99</td>\n",
              "    </tr>\n",
              "    <tr>\n",
              "      <th>4</th>\n",
              "      <td>6bc8d08963a135220ed6c6d098831f84</td>\n",
              "      <td>23397e992b09769faf5e66f9e171a241</td>\n",
              "      <td>mage</td>\n",
              "      <td>RJ</td>\n",
              "      <td>2e604b3614664aa66867856dba7e61b7</td>\n",
              "      <td>a9516a079e37a9c9c36b9b78b10169e8</td>\n",
              "      <td>moveis_escritorio</td>\n",
              "      <td>106.99</td>\n",
              "    </tr>\n",
              "  </tbody>\n",
              "</table>\n",
              "</div>"
            ],
            "text/plain": [
              "                        customer_id                customer_unique_id   \n",
              "0  06b8999e2fba1a1fbc88172c00ba8bc7  861eff4711a542e4b93843c6dd7febb0  \\\n",
              "1  8912fc0c3bbf1e2fbf35819e21706718  9eae34bbd3a474ec5d07949ca7de67c0   \n",
              "2  8912fc0c3bbf1e2fbf35819e21706718  9eae34bbd3a474ec5d07949ca7de67c0   \n",
              "3  f0ac8e5a239118859b1734e1087cbb1f  3c799d181c34d51f6d44bbbc563024db   \n",
              "4  6bc8d08963a135220ed6c6d098831f84  23397e992b09769faf5e66f9e171a241   \n",
              "\n",
              "     customer_city customer_state                          order_id   \n",
              "0           franca             SP  00e7ee1b050b8499577073aeb2a297a1  \\\n",
              "1         santarem             PA  c1d2b34febe9cd269e378117d6681172   \n",
              "2         santarem             PA  c1d2b34febe9cd269e378117d6681172   \n",
              "3  nova santa rita             RS  b1a5d5365d330d10485e0203d54ab9e8   \n",
              "4             mage             RJ  2e604b3614664aa66867856dba7e61b7   \n",
              "\n",
              "                         product_id product_category_name   price  \n",
              "0  a9516a079e37a9c9c36b9b78b10169e8     moveis_escritorio  124.99  \n",
              "1  a9516a079e37a9c9c36b9b78b10169e8     moveis_escritorio  112.99  \n",
              "2  a9516a079e37a9c9c36b9b78b10169e8     moveis_escritorio  112.99  \n",
              "3  a9516a079e37a9c9c36b9b78b10169e8     moveis_escritorio  124.99  \n",
              "4  a9516a079e37a9c9c36b9b78b10169e8     moveis_escritorio  106.99  "
            ]
          },
          "execution_count": 16,
          "metadata": {},
          "output_type": "execute_result"
        }
      ],
      "source": [
        "#\n",
        "data_ecommerce.head()"
      ]
    },
    {
      "cell_type": "code",
      "execution_count": null,
      "metadata": {},
      "outputs": [],
      "source": [
        "# Convertendo para parquet e realizando a leitura"
      ]
    },
    {
      "cell_type": "code",
      "execution_count": 22,
      "metadata": {},
      "outputs": [],
      "source": [
        "data_ecommerce.to_parquet('data_ecommerce.parquet')"
      ]
    },
    {
      "cell_type": "code",
      "execution_count": 25,
      "metadata": {},
      "outputs": [],
      "source": [
        "data_ecommerce_parquet = pd.read_parquet('data_ecommerce.parquet')"
      ]
    },
    {
      "cell_type": "code",
      "execution_count": 31,
      "metadata": {},
      "outputs": [
        {
          "data": {
            "text/html": [
              "<div>\n",
              "<style scoped>\n",
              "    .dataframe tbody tr th:only-of-type {\n",
              "        vertical-align: middle;\n",
              "    }\n",
              "\n",
              "    .dataframe tbody tr th {\n",
              "        vertical-align: top;\n",
              "    }\n",
              "\n",
              "    .dataframe thead th {\n",
              "        text-align: right;\n",
              "    }\n",
              "</style>\n",
              "<table border=\"1\" class=\"dataframe\">\n",
              "  <thead>\n",
              "    <tr style=\"text-align: right;\">\n",
              "      <th></th>\n",
              "      <th>customer_id</th>\n",
              "      <th>customer_unique_id</th>\n",
              "      <th>customer_city</th>\n",
              "      <th>customer_state</th>\n",
              "      <th>order_id</th>\n",
              "      <th>product_id</th>\n",
              "      <th>product_category_name</th>\n",
              "      <th>price</th>\n",
              "    </tr>\n",
              "  </thead>\n",
              "  <tbody>\n",
              "    <tr>\n",
              "      <th>0</th>\n",
              "      <td>06b8999e2fba1a1fbc88172c00ba8bc7</td>\n",
              "      <td>861eff4711a542e4b93843c6dd7febb0</td>\n",
              "      <td>franca</td>\n",
              "      <td>SP</td>\n",
              "      <td>00e7ee1b050b8499577073aeb2a297a1</td>\n",
              "      <td>a9516a079e37a9c9c36b9b78b10169e8</td>\n",
              "      <td>moveis_escritorio</td>\n",
              "      <td>124.99</td>\n",
              "    </tr>\n",
              "    <tr>\n",
              "      <th>1</th>\n",
              "      <td>8912fc0c3bbf1e2fbf35819e21706718</td>\n",
              "      <td>9eae34bbd3a474ec5d07949ca7de67c0</td>\n",
              "      <td>santarem</td>\n",
              "      <td>PA</td>\n",
              "      <td>c1d2b34febe9cd269e378117d6681172</td>\n",
              "      <td>a9516a079e37a9c9c36b9b78b10169e8</td>\n",
              "      <td>moveis_escritorio</td>\n",
              "      <td>112.99</td>\n",
              "    </tr>\n",
              "    <tr>\n",
              "      <th>2</th>\n",
              "      <td>8912fc0c3bbf1e2fbf35819e21706718</td>\n",
              "      <td>9eae34bbd3a474ec5d07949ca7de67c0</td>\n",
              "      <td>santarem</td>\n",
              "      <td>PA</td>\n",
              "      <td>c1d2b34febe9cd269e378117d6681172</td>\n",
              "      <td>a9516a079e37a9c9c36b9b78b10169e8</td>\n",
              "      <td>moveis_escritorio</td>\n",
              "      <td>112.99</td>\n",
              "    </tr>\n",
              "    <tr>\n",
              "      <th>3</th>\n",
              "      <td>f0ac8e5a239118859b1734e1087cbb1f</td>\n",
              "      <td>3c799d181c34d51f6d44bbbc563024db</td>\n",
              "      <td>nova santa rita</td>\n",
              "      <td>RS</td>\n",
              "      <td>b1a5d5365d330d10485e0203d54ab9e8</td>\n",
              "      <td>a9516a079e37a9c9c36b9b78b10169e8</td>\n",
              "      <td>moveis_escritorio</td>\n",
              "      <td>124.99</td>\n",
              "    </tr>\n",
              "    <tr>\n",
              "      <th>4</th>\n",
              "      <td>6bc8d08963a135220ed6c6d098831f84</td>\n",
              "      <td>23397e992b09769faf5e66f9e171a241</td>\n",
              "      <td>mage</td>\n",
              "      <td>RJ</td>\n",
              "      <td>2e604b3614664aa66867856dba7e61b7</td>\n",
              "      <td>a9516a079e37a9c9c36b9b78b10169e8</td>\n",
              "      <td>moveis_escritorio</td>\n",
              "      <td>106.99</td>\n",
              "    </tr>\n",
              "  </tbody>\n",
              "</table>\n",
              "</div>"
            ],
            "text/plain": [
              "                        customer_id                customer_unique_id   \n",
              "0  06b8999e2fba1a1fbc88172c00ba8bc7  861eff4711a542e4b93843c6dd7febb0  \\\n",
              "1  8912fc0c3bbf1e2fbf35819e21706718  9eae34bbd3a474ec5d07949ca7de67c0   \n",
              "2  8912fc0c3bbf1e2fbf35819e21706718  9eae34bbd3a474ec5d07949ca7de67c0   \n",
              "3  f0ac8e5a239118859b1734e1087cbb1f  3c799d181c34d51f6d44bbbc563024db   \n",
              "4  6bc8d08963a135220ed6c6d098831f84  23397e992b09769faf5e66f9e171a241   \n",
              "\n",
              "     customer_city customer_state                          order_id   \n",
              "0           franca             SP  00e7ee1b050b8499577073aeb2a297a1  \\\n",
              "1         santarem             PA  c1d2b34febe9cd269e378117d6681172   \n",
              "2         santarem             PA  c1d2b34febe9cd269e378117d6681172   \n",
              "3  nova santa rita             RS  b1a5d5365d330d10485e0203d54ab9e8   \n",
              "4             mage             RJ  2e604b3614664aa66867856dba7e61b7   \n",
              "\n",
              "                         product_id product_category_name   price  \n",
              "0  a9516a079e37a9c9c36b9b78b10169e8     moveis_escritorio  124.99  \n",
              "1  a9516a079e37a9c9c36b9b78b10169e8     moveis_escritorio  112.99  \n",
              "2  a9516a079e37a9c9c36b9b78b10169e8     moveis_escritorio  112.99  \n",
              "3  a9516a079e37a9c9c36b9b78b10169e8     moveis_escritorio  124.99  \n",
              "4  a9516a079e37a9c9c36b9b78b10169e8     moveis_escritorio  106.99  "
            ]
          },
          "execution_count": 31,
          "metadata": {},
          "output_type": "execute_result"
        }
      ],
      "source": [
        "# ajustar para formato de dataframe\n",
        "data_ecommerce_parquet = pd.DataFrame(data_ecommerce_parquet)\n",
        "data_ecommerce_parquet.head()"
      ]
    },
    {
      "cell_type": "code",
      "execution_count": 135,
      "metadata": {
        "colab": {
          "base_uri": "https://localhost:8080/",
          "height": 335
        },
        "id": "-opCIW_o9cBC",
        "outputId": "b94f5f14-da7a-4c3b-e0eb-8e43498a3ebc"
      },
      "outputs": [
        {
          "data": {
            "text/plain": [
              "customer_id               object\n",
              "customer_unique_id        object\n",
              "customer_city             object\n",
              "customer_state            object\n",
              "order_id                  object\n",
              "product_id                object\n",
              "product_category_name     object\n",
              "price                    float64\n",
              "dtype: object"
            ]
          },
          "execution_count": 135,
          "metadata": {},
          "output_type": "execute_result"
        }
      ],
      "source": [
        "data_ecommerce_parquet.dtypes"
      ]
    },
    {
      "cell_type": "code",
      "execution_count": 34,
      "metadata": {
        "colab": {
          "base_uri": "https://localhost:8080/",
          "height": 335
        },
        "id": "MpecsQ7A9dKi",
        "outputId": "3a1f700b-cb58-42ca-ceb5-3e32da1607e7"
      },
      "outputs": [
        {
          "data": {
            "text/plain": [
              "customer_id                 0\n",
              "customer_unique_id          0\n",
              "customer_city               0\n",
              "customer_state              0\n",
              "order_id                    0\n",
              "product_id                  0\n",
              "product_category_name    1603\n",
              "price                       0\n",
              "dtype: int64"
            ]
          },
          "execution_count": 34,
          "metadata": {},
          "output_type": "execute_result"
        }
      ],
      "source": [
        "data_ecommerce_parquet.isnull().sum()"
      ]
    },
    {
      "cell_type": "code",
      "execution_count": 36,
      "metadata": {
        "colab": {
          "base_uri": "https://localhost:8080/",
          "height": 490
        },
        "id": "vr7p0l889fkq",
        "outputId": "2cba3765-bed4-4b49-84a2-d85c84333beb"
      },
      "outputs": [
        {
          "data": {
            "text/plain": [
              "product_category_name\n",
              "cama_mesa_banho                  11115\n",
              "beleza_saude                      9670\n",
              "esporte_lazer                     8641\n",
              "moveis_decoracao                  8334\n",
              "informatica_acessorios            7827\n",
              "                                 ...  \n",
              "la_cuisine                          14\n",
              "cds_dvds_musicais                   14\n",
              "pc_gamer                             9\n",
              "fashion_roupa_infanto_juvenil        8\n",
              "seguros_e_servicos                   2\n",
              "Name: count, Length: 73, dtype: int64"
            ]
          },
          "execution_count": 36,
          "metadata": {},
          "output_type": "execute_result"
        }
      ],
      "source": [
        "# verificando qual categoria vende mais\n",
        "data_ecommerce_parquet['product_category_name'].value_counts()"
      ]
    },
    {
      "cell_type": "code",
      "execution_count": 38,
      "metadata": {
        "colab": {
          "base_uri": "https://localhost:8080/"
        },
        "id": "wB53h2nU9gq6",
        "outputId": "47483527-6070-4885-cab4-5f5727b7535a"
      },
      "outputs": [
        {
          "name": "stdout",
          "output_type": "stream",
          "text": [
            "<class 'pandas.core.frame.DataFrame'>\n",
            "RangeIndex: 112650 entries, 0 to 112649\n",
            "Data columns (total 8 columns):\n",
            " #   Column                 Non-Null Count   Dtype  \n",
            "---  ------                 --------------   -----  \n",
            " 0   customer_id            112650 non-null  object \n",
            " 1   customer_unique_id     112650 non-null  object \n",
            " 2   customer_city          112650 non-null  object \n",
            " 3   customer_state         112650 non-null  object \n",
            " 4   order_id               112650 non-null  object \n",
            " 5   product_id             112650 non-null  object \n",
            " 6   product_category_name  111047 non-null  object \n",
            " 7   price                  112650 non-null  float64\n",
            "dtypes: float64(1), object(7)\n",
            "memory usage: 6.9+ MB\n"
          ]
        }
      ],
      "source": [
        "data_ecommerce_parquet.info()"
      ]
    },
    {
      "cell_type": "code",
      "execution_count": 137,
      "metadata": {
        "id": "EefxpGgWFQmC"
      },
      "outputs": [],
      "source": [
        "ticket_medio = data_ecommerce_parquet.groupby(['customer_state']).agg({'price': 'mean'}).reset_index()\n"
      ]
    },
    {
      "cell_type": "code",
      "execution_count": 138,
      "metadata": {
        "colab": {
          "base_uri": "https://localhost:8080/",
          "height": 565
        },
        "id": "DDEqa_A8FWbR",
        "outputId": "b33812c5-f8fd-4467-e08a-0d3024092b39"
      },
      "outputs": [
        {
          "data": {
            "image/png": "[encoded data removed]",
            "text/plain": [
              "<Figure size 1200x600 with 1 Axes>"
            ]
          },
          "metadata": {},
          "output_type": "display_data"
        }
      ],
      "source": [
        "plt.figure(figsize=(12, 6))\n",
        "sns.barplot(x='customer_state', y='price', data=ticket_medio)\n",
        "plt.title('Valor médio de compra por Estado')\n",
        "plt.xlabel('Siglas do Estado')\n",
        "plt.ylabel('Ticket Médio')\n",
        "plt.show()\n"
      ]
    },
    {
      "cell_type": "code",
      "execution_count": 179,
      "metadata": {
        "colab": {
          "base_uri": "https://localhost:8080/"
        },
        "id": "dXgjWXXtKWmK",
        "outputId": "1916b246-d122-4e11-b09f-391b1a5cec1f"
      },
      "outputs": [
        {
          "name": "stdout",
          "output_type": "stream",
          "text": [
            "   customer_state  Número de Compras\n",
            "25             SP              47449\n",
            "18             RJ              14579\n",
            "10             MG              13129\n",
            "22             RS               6235\n",
            "17             PR               5740\n",
            "23             SC               4176\n",
            "4              BA               3799\n",
            "6              DF               2406\n",
            "8              GO               2333\n",
            "7              ES               2256\n",
            "15             PE               1806\n",
            "5              CE               1478\n",
            "13             PA               1080\n",
            "12             MT               1055\n",
            "9              MA                824\n",
            "11             MS                819\n",
            "14             PB                602\n",
            "16             PI                542\n",
            "19             RN                529\n",
            "1              AL                444\n",
            "24             SE                385\n",
            "26             TO                315\n",
            "20             RO                278\n",
            "2              AM                165\n",
            "0              AC                 92\n",
            "3              AP                 82\n",
            "21             RR                 52\n"
          ]
        }
      ],
      "source": [
        "# número de compras por estado\n",
        "comprasestado = data_ecommerce_parquet.groupby('customer_state')['order_id'].count().reset_index()\n",
        "comprasestado.rename(columns={'order_id': 'Número de Compras'}, inplace=True)\n",
        "comprasestado = comprasestado.sort_values('Número de Compras', ascending=False)\n",
        "print(comprasestado)\n"
      ]
    },
    {
      "cell_type": "code",
      "execution_count": 180,
      "metadata": {
        "colab": {
          "base_uri": "https://localhost:8080/"
        },
        "id": "ZDrbiQU0Klh5",
        "outputId": "6a5cf103-35be-4787-bf68-d7009ea07438"
      },
      "outputs": [
        {
          "name": "stdout",
          "output_type": "stream",
          "text": [
            "     customer_state        product_category_name  Número de Produtos Vendidos\n",
            "0                AC             artigos_de_natal                            1\n",
            "1                AC                   automotivo                            4\n",
            "2                AC                        bebes                            3\n",
            "3                AC                 beleza_saude                            7\n",
            "4                AC                   brinquedos                            3\n",
            "...             ...                          ...                          ...\n",
            "1363             TO  portateis_casa_forno_e_cafe                            1\n",
            "1364             TO           relogios_presentes                           30\n",
            "1365             TO                    telefonia                           21\n",
            "1366             TO               telefonia_fixa                            2\n",
            "1367             TO        utilidades_domesticas                           14\n",
            "\n",
            "[1368 rows x 3 columns]\n"
          ]
        }
      ],
      "source": [
        "produtosestado = data_ecommerce_parquet.groupby(['customer_state', 'product_category_name'])['product_id'].count().reset_index()\n",
        "produtosestado.rename(columns={'product_id': 'Número de Produtos Vendidos'}, inplace=True)\n",
        "print(produtosestado)\n"
      ]
    },
    {
      "cell_type": "code",
      "execution_count": 183,
      "metadata": {},
      "outputs": [],
      "source": [
        "# acumular somente os 5 primeiros estados que mais consomem\n",
        "top_produtos = produtosestado.groupby('product_category_name')['Número de Produtos Vendidos'].sum().reset_index()\n",
        "top_produtos = top_produtos.sort_values(by='Número de Produtos Vendidos', ascending=False).head(5)\n",
        "produtos_top10 = produtosestado[produtosestado['product_category_name'].isin(top_produtos['product_category_name'])]"
      ]
    },
    {
      "cell_type": "code",
      "execution_count": 184,
      "metadata": {},
      "outputs": [
        {
          "data": {
            "image/png": "[encoded data removed]",
            "text/plain": [
              "<Figure size 1000x900 with 1 Axes>"
            ]
          },
          "metadata": {},
          "output_type": "display_data"
        }
      ],
      "source": [
        "# Agrupar e somar as vendas por estado e selecionar o top 5\n",
        "comprasestado = produtosestado.groupby('customer_state')['Número de Produtos Vendidos'].sum().reset_index()\n",
        "top_estados = comprasestado.sort_values(by='Número de Produtos Vendidos', ascending=False).head(5)\n",
        "\n",
        "# DataFrame para incluir apenas estados e as categorias \n",
        "produtos_top10 = produtosestado[\n",
        "    (produtosestado['customer_state'].isin(top_estados['customer_state'])) & \n",
        "    (produtosestado['product_category_name'].isin(top_produtos['product_category_name']))\n",
        "]\n",
        "\n",
        "sns.set(style=\"whitegrid\")\n",
        "plt.figure(figsize=(10, 9))\n",
        "sns.barplot(data=produtos_top10, x='customer_state', y='Número de Produtos Vendidos', hue='product_category_name')\n",
        "plt.title('Ranking dos 5 estados com mais vendas', fontsize=16)\n",
        "plt.xlabel('Estados', fontsize=14)\n",
        "plt.ylabel('+ vendidos', fontsize=14)\n",
        "plt.xticks(rotation=45)\n",
        "plt.legend(title='Categoria do Produto', bbox_to_anchor=(1.05, 1), loc='upper left')\n",
        "plt.tight_layout()\n",
        "plt.show()\n"
      ]
    }
  ],
  "metadata": {
    "colab": {
      "provenance": []
    },
    "kernelspec": {
      "display_name": "Python 3",
      "name": "python3"
    },
    "language_info": {
      "codemirror_mode": {
        "name": "ipython",
        "version": 3
      },
      "file_extension": ".py",
      "mimetype": "text/x-python",
      "name": "python",
      "nbconvert_exporter": "python",
      "pygments_lexer": "ipython3",
      "version": "3.11.3"
    }
  },
  "nbformat": 4,
  "nbformat_minor": 0
}
